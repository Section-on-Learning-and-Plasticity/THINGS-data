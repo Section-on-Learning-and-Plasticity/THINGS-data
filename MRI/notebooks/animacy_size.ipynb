{
 "cells": [
  {
   "cell_type": "code",
   "execution_count": 1,
   "metadata": {
    "ExecuteTime": {
     "end_time": "2022-04-11T11:31:29.170187Z",
     "start_time": "2022-04-11T11:31:26.990491Z"
    }
   },
   "outputs": [],
   "source": [
    "from os.path import join as pjoin\n",
    "from os.path import abspath, pardir\n",
    "import os\n",
    "import glob\n",
    "import sys\n",
    "from nilearn.masking import intersect_masks, unmask\n",
    "from sklearn.metrics import r2_score\n",
    "from sklearn.model_selection import KFold\n",
    "from tqdm.notebook import tqdm\n",
    "import seaborn as sns\n",
    "import numpy as np\n",
    "import matplotlib.pyplot as plt\n",
    "import pandas as pd\n",
    "import scipy\n",
    "import patsy\n",
    "import statsmodels.api as sm\n",
    "from sklearn.linear_model import LinearRegression"
   ]
  },
  {
   "cell_type": "code",
   "execution_count": null,
   "id": "fc442ace",
   "metadata": {},
   "outputs": [],
   "source": [
    "# path to where the bids dataset is stored\n",
    "bidsroot = '/path/to/raw/fmri/bids/dataset'\n",
    "# assumes that preprocessed data (fmriprep) and single trial estimates are stored in the derivatives subfolder\n",
    "fmriprepdir = pjoin(bidsroot, 'derivatives', 'fmriprep')\n",
    "betas_derivname = 'betas_loo/on_residuals/scalematched'\n",
    "# define a path where the output is stored\n",
    "out_basedir = pjoin(bidsroot, 'derivatives', 'animacysize')"
   ]
  },
  {
   "cell_type": "code",
   "execution_count": 2,
   "metadata": {
    "ExecuteTime": {
     "end_time": "2022-04-11T11:31:31.085159Z",
     "start_time": "2022-04-11T11:31:29.171779Z"
    }
   },
   "outputs": [
    {
     "name": "stderr",
     "output_type": "stream",
     "text": [
      "/home/ocontier/.local/lib/python3.8/site-packages/nilearn/glm/__init__.py:55: FutureWarning: The nilearn.glm module is experimental. It may change in any future release of Nilearn.\n",
      "  warn('The nilearn.glm module is experimental. '\n"
     ]
    },
    {
     "name": "stdout",
     "output_type": "stream",
     "text": [
      "220411-13:31:31,47 nipype.utils WARNING:\n",
      "\t A newer version (1.7.1) of nipy/nipype is available. You are using 1.5.1\n"
     ]
    }
   ],
   "source": [
    "# additional imports from this repository\n",
    "sys.path.append(pjoin(os.path.pardir(), 'src'))\n",
    "from betas import load_betas, load_filenames, filter_catch_trials, average_betas_per_concept\n",
    "from utils import pearsonr_nd, load_animacy_size"
   ]
  },
  {
   "cell_type": "code",
   "execution_count": 3,
   "metadata": {
    "ExecuteTime": {
     "end_time": "2022-04-11T11:31:31.091729Z",
     "start_time": "2022-04-11T11:31:31.087480Z"
    }
   },
   "outputs": [],
   "source": [
    "# define the subject of interest and output directory for this subject\n",
    "sub = '01'\n",
    "outdir = pjoin(out_basedir, f'sub-{sub}')\n",
    "if not os.path.exists(outdir):\n",
    "    os.makedirs(outdir)"
   ]
  },
  {
   "cell_type": "markdown",
   "metadata": {},
   "source": [
    "# Load brain data"
   ]
  },
  {
   "cell_type": "code",
   "execution_count": 5,
   "metadata": {
    "ExecuteTime": {
     "end_time": "2022-04-11T11:31:31.109298Z",
     "start_time": "2022-04-11T11:31:31.106166Z"
    }
   },
   "outputs": [],
   "source": [
    "# get brain mask\n",
    "bmask = pjoin(bidsroot, 'derivatives', 'brainmasks', f'sub-{sub}_space-T1w_brainmask.nii.gz')"
   ]
  },
  {
   "cell_type": "code",
   "execution_count": 6,
   "metadata": {
    "ExecuteTime": {
     "end_time": "2022-04-11T11:32:16.691267Z",
     "start_time": "2022-04-11T11:31:31.111463Z"
    },
    "scrolled": true
   },
   "outputs": [
    {
     "name": "stderr",
     "output_type": "stream",
     "text": [
      "loading betas: 100%|█████████████████████████████████████████████████████| 120/120 [00:00<00:00, 85264.52it/s]\n",
      "Assuming non interactive session since isatty found missing\n",
      "Assuming non interactive session since isatty found missing\n",
      "Assuming non interactive session since isatty found missing\n",
      "Assuming non interactive session since isatty found missing\n",
      "Assuming non interactive session since isatty found missing\n",
      "Assuming non interactive session since isatty found missing\n",
      "Assuming non interactive session since isatty found missing\n",
      "Assuming non interactive session since isatty found missing\n",
      "Assuming non interactive session since isatty found missing\n",
      "Assuming non interactive session since isatty found missing\n",
      "Assuming non interactive session since isatty found missing\n",
      "Assuming non interactive session since isatty found missing\n",
      "Assuming non interactive session since isatty found missing\n",
      "Assuming non interactive session since isatty found missing\n",
      "Assuming non interactive session since isatty found missing\n",
      "Assuming non interactive session since isatty found missing\n",
      "Assuming non interactive session since isatty found missing\n",
      "Assuming non interactive session since isatty found missing\n",
      "Assuming non interactive session since isatty found missing\n",
      "Assuming non interactive session since isatty found missing\n",
      "Assuming non interactive session since isatty found missing\n",
      "Assuming non interactive session since isatty found missing\n",
      "Assuming non interactive session since isatty found missing\n",
      "Assuming non interactive session since isatty found missing\n",
      "Assuming non interactive session since isatty found missing\n",
      "Assuming non interactive session since isatty found missing\n",
      "Assuming non interactive session since isatty found missing\n",
      "Assuming non interactive session since isatty found missing\n",
      "Assuming non interactive session since isatty found missing\n",
      "Assuming non interactive session since isatty found missing\n",
      "Assuming non interactive session since isatty found missing\n",
      "Assuming non interactive session since isatty found missing\n",
      "Assuming non interactive session since isatty found missing\n",
      "Assuming non interactive session since isatty found missing\n",
      "Assuming non interactive session since isatty found missing\n",
      "Assuming non interactive session since isatty found missing\n",
      "Assuming non interactive session since isatty found missing\n",
      "Assuming non interactive session since isatty found missing\n",
      "Assuming non interactive session since isatty found missing\n",
      "Assuming non interactive session since isatty found missing\n",
      "Assuming non interactive session since isatty found missing\n",
      "Assuming non interactive session since isatty found missing\n",
      "Assuming non interactive session since isatty found missing\n",
      "Assuming non interactive session since isatty found missing\n",
      "Assuming non interactive session since isatty found missing\n",
      "Assuming non interactive session since isatty found missing\n",
      "Assuming non interactive session since isatty found missing\n",
      "Assuming non interactive session since isatty found missing\n",
      "Assuming non interactive session since isatty found missing\n",
      "Assuming non interactive session since isatty found missing\n",
      "Assuming non interactive session since isatty found missing\n",
      "Assuming non interactive session since isatty found missing\n",
      "Assuming non interactive session since isatty found missing\n",
      "Assuming non interactive session since isatty found missing\n",
      "Assuming non interactive session since isatty found missing\n",
      "Assuming non interactive session since isatty found missing\n",
      "Assuming non interactive session since isatty found missing\n",
      "Assuming non interactive session since isatty found missing\n",
      "Assuming non interactive session since isatty found missing\n",
      "Assuming non interactive session since isatty found missing\n",
      "Assuming non interactive session since isatty found missing\n",
      "Assuming non interactive session since isatty found missing\n",
      "Assuming non interactive session since isatty found missing\n",
      "Assuming non interactive session since isatty found missing\n",
      "Assuming non interactive session since isatty found missing\n",
      "Assuming non interactive session since isatty found missing\n",
      "Assuming non interactive session since isatty found missing\n",
      "Assuming non interactive session since isatty found missing\n",
      "Assuming non interactive session since isatty found missing\n",
      "Assuming non interactive session since isatty found missing\n",
      "Assuming non interactive session since isatty found missing\n",
      "Assuming non interactive session since isatty found missing\n",
      "Assuming non interactive session since isatty found missing\n",
      "Assuming non interactive session since isatty found missing\n",
      "Assuming non interactive session since isatty found missing\n",
      "Assuming non interactive session since isatty found missing\n",
      "Assuming non interactive session since isatty found missing\n",
      "Assuming non interactive session since isatty found missing\n",
      "Assuming non interactive session since isatty found missing\n",
      "Assuming non interactive session since isatty found missing\n",
      "Assuming non interactive session since isatty found missing\n",
      "Assuming non interactive session since isatty found missing\n",
      "Assuming non interactive session since isatty found missing\n",
      "Assuming non interactive session since isatty found missing\n",
      "Assuming non interactive session since isatty found missing\n",
      "Assuming non interactive session since isatty found missing\n",
      "Assuming non interactive session since isatty found missing\n",
      "Assuming non interactive session since isatty found missing\n",
      "Assuming non interactive session since isatty found missing\n",
      "Assuming non interactive session since isatty found missing\n",
      "Assuming non interactive session since isatty found missing\n",
      "Assuming non interactive session since isatty found missing\n",
      "Assuming non interactive session since isatty found missing\n",
      "Assuming non interactive session since isatty found missing\n",
      "Assuming non interactive session since isatty found missing\n",
      "Assuming non interactive session since isatty found missing\n",
      "Assuming non interactive session since isatty found missing\n",
      "Assuming non interactive session since isatty found missing\n",
      "Assuming non interactive session since isatty found missing\n",
      "Assuming non interactive session since isatty found missing\n",
      "Assuming non interactive session since isatty found missing\n",
      "Assuming non interactive session since isatty found missing\n",
      "Assuming non interactive session since isatty found missing\n",
      "Assuming non interactive session since isatty found missing\n",
      "Assuming non interactive session since isatty found missing\n",
      "Assuming non interactive session since isatty found missing\n",
      "Assuming non interactive session since isatty found missing\n",
      "Assuming non interactive session since isatty found missing\n",
      "Assuming non interactive session since isatty found missing\n",
      "Assuming non interactive session since isatty found missing\n",
      "Assuming non interactive session since isatty found missing\n",
      "Assuming non interactive session since isatty found missing\n",
      "Assuming non interactive session since isatty found missing\n",
      "Assuming non interactive session since isatty found missing\n",
      "Assuming non interactive session since isatty found missing\n",
      "Assuming non interactive session since isatty found missing\n",
      "Assuming non interactive session since isatty found missing\n",
      "Assuming non interactive session since isatty found missing\n",
      "Assuming non interactive session since isatty found missing\n",
      "Assuming non interactive session since isatty found missing\n"
     ]
    }
   ],
   "source": [
    "# load betas\n",
    "smooth = 3.\n",
    "betas = load_betas(sub, bmask, betas_derivname=betas_derivname, smoothing=smooth)\n",
    "filenames = load_filenames(sub, bidsroot, betas_derivname)"
   ]
  },
  {
   "cell_type": "code",
   "execution_count": 7,
   "metadata": {
    "ExecuteTime": {
     "end_time": "2022-04-11T11:32:27.355050Z",
     "start_time": "2022-04-11T11:32:16.693229Z"
    }
   },
   "outputs": [],
   "source": [
    "# filter catch trials\n",
    "betas, filenames, noncatch_is = filter_catch_trials(betas, filenames)"
   ]
  },
  {
   "cell_type": "code",
   "execution_count": 8,
   "metadata": {
    "ExecuteTime": {
     "end_time": "2022-04-11T11:32:28.654389Z",
     "start_time": "2022-04-11T11:32:27.356895Z"
    }
   },
   "outputs": [
    {
     "data": {
      "application/vnd.jupyter.widget-view+json": {
       "model_id": "8f7eda435c5e47a7a5d10a4a69cbf15e",
       "version_major": 2,
       "version_minor": 0
      },
      "text/plain": [
       "  0%|          | 0/720 [00:00<?, ?it/s]"
      ]
     },
     "metadata": {},
     "output_type": "display_data"
    }
   ],
   "source": [
    "# average betas within concept\n",
    "concepts = np.array([\n",
    "    fn.split('/')[1][:-8]\n",
    "    for fn in filenames\n",
    "])\n",
    "unique_concepts = np.unique(concepts)\n",
    "\n",
    "betas_concept = []\n",
    "for c in tqdm(unique_concepts):\n",
    "    inds = np.where(concepts == c)\n",
    "    betas_concept.append(betas[inds].mean(axis=0))\n",
    "betas_concept = np.stack(betas_concept)"
   ]
  },
  {
   "cell_type": "code",
   "execution_count": 9,
   "metadata": {
    "ExecuteTime": {
     "end_time": "2022-04-11T11:32:28.661116Z",
     "start_time": "2022-04-11T11:32:28.656010Z"
    }
   },
   "outputs": [
    {
     "data": {
      "text/plain": [
       "((720, 189164), (720,))"
      ]
     },
     "execution_count": 9,
     "metadata": {},
     "output_type": "execute_result"
    }
   ],
   "source": [
    "# double check that arrays have correct shape\n",
    "betas_concept.shape, unique_concepts.shape"
   ]
  },
  {
   "cell_type": "markdown",
   "metadata": {},
   "source": [
    "# Load animacy and size"
   ]
  },
  {
   "cell_type": "code",
   "execution_count": 10,
   "metadata": {
    "ExecuteTime": {
     "end_time": "2022-04-11T11:32:28.698736Z",
     "start_time": "2022-04-11T11:32:28.662900Z"
    }
   },
   "outputs": [],
   "source": [
    "# load animacy and size ratings for entire THINGS object concept database\n",
    "anisize_df = load_animacy_size()"
   ]
  },
  {
   "cell_type": "code",
   "execution_count": 11,
   "metadata": {
    "ExecuteTime": {
     "end_time": "2022-04-11T11:32:29.408833Z",
     "start_time": "2022-04-11T11:32:28.700582Z"
    }
   },
   "outputs": [
    {
     "name": "stdout",
     "output_type": "stream",
     "text": [
      "(720, 3)\n"
     ]
    }
   ],
   "source": [
    "# select values for fmri stimuli\n",
    "data_df = pd.concat([\n",
    "    anisize_df.loc[anisize_df.uniqueID == con,]\n",
    "    for con in unique_concepts\n",
    "])\n",
    "print(data_df.shape)"
   ]
  },
  {
   "cell_type": "code",
   "execution_count": 12,
   "metadata": {
    "ExecuteTime": {
     "end_time": "2022-04-11T11:32:29.523855Z",
     "start_time": "2022-04-11T11:32:29.410222Z"
    }
   },
   "outputs": [
    {
     "name": "stdout",
     "output_type": "stream",
     "text": [
      "r(animacy, size) = -0.094 (across all objects)\n",
      "r(animacy, size) = -0.073 (across objects presented in fmri)\n"
     ]
    }
   ],
   "source": [
    "# show the regressor correlation\n",
    "r = np.corrcoef(anisize_df.animacy.to_numpy(), anisize_df['size'].to_numpy())[0,1]\n",
    "print(f'r(animacy, size) = {r:.3f} (across all objects)')\n",
    "r = np.corrcoef(data_df.animacy.to_numpy(), data_df['size'].to_numpy())[0,1]\n",
    "print(f'r(animacy, size) = {r:.3f} (across objects presented in fmri)')"
   ]
  },
  {
   "cell_type": "code",
   "execution_count": 15,
   "metadata": {
    "ExecuteTime": {
     "end_time": "2022-04-11T11:32:55.459976Z",
     "start_time": "2022-04-11T11:32:55.446766Z"
    }
   },
   "outputs": [
    {
     "data": {
      "text/html": [
       "<div>\n",
       "<style scoped>\n",
       "    .dataframe tbody tr th:only-of-type {\n",
       "        vertical-align: middle;\n",
       "    }\n",
       "\n",
       "    .dataframe tbody tr th {\n",
       "        vertical-align: top;\n",
       "    }\n",
       "\n",
       "    .dataframe thead th {\n",
       "        text-align: right;\n",
       "    }\n",
       "</style>\n",
       "<table border=\"1\" class=\"dataframe\">\n",
       "  <thead>\n",
       "    <tr style=\"text-align: right;\">\n",
       "      <th></th>\n",
       "      <th>uniqueID</th>\n",
       "      <th>animacy</th>\n",
       "      <th>size</th>\n",
       "    </tr>\n",
       "  </thead>\n",
       "  <tbody>\n",
       "    <tr>\n",
       "      <th>1236</th>\n",
       "      <td>powder</td>\n",
       "      <td>1.6842</td>\n",
       "      <td>112.428571</td>\n",
       "    </tr>\n",
       "    <tr>\n",
       "      <th>1150</th>\n",
       "      <td>pepper1</td>\n",
       "      <td>2.4118</td>\n",
       "      <td>113.800000</td>\n",
       "    </tr>\n",
       "    <tr>\n",
       "      <th>1309</th>\n",
       "      <td>rice</td>\n",
       "      <td>3.8205</td>\n",
       "      <td>115.413043</td>\n",
       "    </tr>\n",
       "    <tr>\n",
       "      <th>24</th>\n",
       "      <td>ant</td>\n",
       "      <td>6.9444</td>\n",
       "      <td>116.011111</td>\n",
       "    </tr>\n",
       "    <tr>\n",
       "      <th>1020</th>\n",
       "      <td>mosquito</td>\n",
       "      <td>6.8421</td>\n",
       "      <td>117.765957</td>\n",
       "    </tr>\n",
       "    <tr>\n",
       "      <th>...</th>\n",
       "      <td>...</td>\n",
       "      <td>...</td>\n",
       "      <td>...</td>\n",
       "    </tr>\n",
       "    <tr>\n",
       "      <th>10</th>\n",
       "      <td>airplane</td>\n",
       "      <td>1.2368</td>\n",
       "      <td>410.468085</td>\n",
       "    </tr>\n",
       "    <tr>\n",
       "      <th>1698</th>\n",
       "      <td>train</td>\n",
       "      <td>1.4000</td>\n",
       "      <td>414.085106</td>\n",
       "    </tr>\n",
       "    <tr>\n",
       "      <th>9</th>\n",
       "      <td>aircraft_carrier</td>\n",
       "      <td>1.2778</td>\n",
       "      <td>421.329545</td>\n",
       "    </tr>\n",
       "    <tr>\n",
       "      <th>1501</th>\n",
       "      <td>space_shuttle</td>\n",
       "      <td>1.3684</td>\n",
       "      <td>421.844444</td>\n",
       "    </tr>\n",
       "    <tr>\n",
       "      <th>1578</th>\n",
       "      <td>subway</td>\n",
       "      <td>1.4865</td>\n",
       "      <td>423.088235</td>\n",
       "    </tr>\n",
       "  </tbody>\n",
       "</table>\n",
       "<p>720 rows × 3 columns</p>\n",
       "</div>"
      ],
      "text/plain": [
       "              uniqueID  animacy        size\n",
       "1236            powder   1.6842  112.428571\n",
       "1150           pepper1   2.4118  113.800000\n",
       "1309              rice   3.8205  115.413043\n",
       "24                 ant   6.9444  116.011111\n",
       "1020          mosquito   6.8421  117.765957\n",
       "...                ...      ...         ...\n",
       "10            airplane   1.2368  410.468085\n",
       "1698             train   1.4000  414.085106\n",
       "9     aircraft_carrier   1.2778  421.329545\n",
       "1501     space_shuttle   1.3684  421.844444\n",
       "1578            subway   1.4865  423.088235\n",
       "\n",
       "[720 rows x 3 columns]"
      ]
     },
     "execution_count": 15,
     "metadata": {},
     "output_type": "execute_result"
    }
   ],
   "source": [
    "# show biggest and smallest objects as examples\n",
    "data_df.sort_values('size')"
   ]
  },
  {
   "cell_type": "code",
   "execution_count": 14,
   "metadata": {
    "ExecuteTime": {
     "end_time": "2022-01-16T15:34:41.700338Z",
     "start_time": "2022-01-16T15:34:41.695127Z"
    }
   },
   "outputs": [],
   "source": [
    "# normalize regressors\n",
    "for regname in ['animacy', 'size']:\n",
    "    data_df[regname] -= data_df[regname].mean()\n",
    "    data_df[regname] /= data_df[regname].std()\n",
    "X = data_df.to_numpy()"
   ]
  },
  {
   "cell_type": "code",
   "execution_count": 16,
   "metadata": {
    "ExecuteTime": {
     "end_time": "2022-01-16T15:34:41.799946Z",
     "start_time": "2022-01-16T15:34:41.707596Z"
    }
   },
   "outputs": [
    {
     "data": {
      "image/png": "[encoded data removed]",
      "text/plain": [
       "<Figure size 288x288 with 1 Axes>"
      ]
     },
     "metadata": {
      "needs_background": "light"
     },
     "output_type": "display_data"
    }
   ],
   "source": [
    "# inspect range/distribution of normalized regressors\n",
    "fig = plt.figure(figsize=(4,4))\n",
    "plt.scatter(X['animacy'], X['size'])\n",
    "plt.xlabel('animacy');plt.ylabel('size')\n",
    "plt.show()"
   ]
  },
  {
   "cell_type": "markdown",
   "metadata": {},
   "source": [
    "# Fit regression"
   ]
  },
  {
   "cell_type": "code",
   "execution_count": null,
   "metadata": {},
   "outputs": [],
   "source": [
    "# fit a simple linear regression\n",
    "n_jobs = 10\n",
    "lr = LinearRegression(\n",
    "    n_jobs=n_jobs, normalize=False, fit_intercept=True, \n",
    ")\n",
    "lr.fit(X, betas_concept)"
   ]
  },
  {
   "cell_type": "code",
   "execution_count": 17,
   "metadata": {
    "ExecuteTime": {
     "end_time": "2022-01-16T15:34:43.747964Z",
     "start_time": "2022-01-16T15:34:41.801464Z"
    }
   },
   "outputs": [],
   "source": [
    "# save regression weights for animacy and size to nifti files\n",
    "for i, regname in enumerate(X.columns):\n",
    "    img = unmask(lr.coef_[:,i], umask)\n",
    "    img.to_filename(pjoin(outdir, f'sub-{sub}_{regname}_beta_smooth-{int(smooth)}.nii.gz'))"
   ]
  }
 ],
 "metadata": {
  "kernelspec": {
   "display_name": "Python 3.9.2 ('pycortex_env')",
   "language": "python",
   "name": "python3"
  },
  "language_info": {
   "codemirror_mode": {
    "name": "ipython",
    "version": 3
   },
   "file_extension": ".py",
   "mimetype": "text/x-python",
   "name": "python",
   "nbconvert_exporter": "python",
   "pygments_lexer": "ipython3",
   "version": "3.9.2"
  },
  "vscode": {
   "interpreter": {
    "hash": "0353db5c40e4acea9704ff3791d606e9ce74d1fd9ef57063d56e39bfb4a5910f"
   }
  }
 },
 "nbformat": 4,
 "nbformat_minor": 5
}
