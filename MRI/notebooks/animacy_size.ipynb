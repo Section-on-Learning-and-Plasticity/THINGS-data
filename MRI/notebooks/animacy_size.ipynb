{
 "cells": [
  {
   "cell_type": "code",
   "execution_count": 1,
   "metadata": {
    "ExecuteTime": {
     "end_time": "2022-04-11T11:31:29.170187Z",
     "start_time": "2022-04-11T11:31:26.990491Z"
    }
   },
   "outputs": [],
   "source": [
    "from os.path import join as pjoin\n",
    "from nilearn.masking import unmask\n",
    "import numpy as np\n",
    "import matplotlib.pyplot as plt\n",
    "import pandas as pd\n",
    "from sklearn.linear_model import LinearRegression\n",
    "from nilearn.plotting import plot_stat_map\n",
    "\n",
    "from thingsmri.dataset import load_animacy_size"
   ]
  },
  {
   "cell_type": "markdown",
   "id": "03e187b2",
   "metadata": {},
   "source": [
    "# Predicting voxel-wise fMRI activity with object animacy and size ratings.\n"
   ]
  },
  {
   "cell_type": "markdown",
   "id": "3eed0117",
   "metadata": {},
   "source": [
    "\n",
    "In this notebook, we will use animacy and size ratings taken from the [THINGSplus](https://doi.org/10.3758/s13428-023-02110-8) metadata collection to predict the neural response to the respective object images."
   ]
  },
  {
   "cell_type": "markdown",
   "metadata": {},
   "source": [
    "# Data"
   ]
  },
  {
   "cell_type": "markdown",
   "id": "00e3fecc",
   "metadata": {},
   "source": [
    "## Brain data 🧠"
   ]
  },
  {
   "cell_type": "markdown",
   "id": "b3c46b86",
   "metadata": {},
   "source": [
    "For this, we will work with the THINGS-fMRI data. First, make sure you've downloaded the [image-wise response estimates from figshare](https://doi.org/10.25452/figshare.plus.20492835.v2)."
   ]
  },
  {
   "cell_type": "code",
   "execution_count": 2,
   "id": "2823b740",
   "metadata": {},
   "outputs": [
    {
     "name": "stdout",
     "output_type": "stream",
     "text": [
      "sub-01_ResponseData.h5\t     sub-02_VoxelMetadata.csv\n",
      "sub-01_StimulusMetadata.csv  sub-03_ResponseData.h5\n",
      "sub-01_VoxelMetadata.csv     sub-03_StimulusMetadata.csv\n",
      "sub-02_ResponseData.h5\t     sub-03_VoxelMetadata.csv\n",
      "sub-02_StimulusMetadata.csv\n"
     ]
    }
   ],
   "source": [
    "!ls /LOCAL/ocontier/thingsmri/bids/derivatives/betas_csv"
   ]
  },
  {
   "cell_type": "markdown",
   "id": "bb80cc6d",
   "metadata": {},
   "source": [
    "The fMRI data comes in table format saved as `.hdf5` and `.csv` files. The `ResponseData.h5` files contain the response magnitude to each image in each voxel. the `StimulusMetadata.csv` files contain information about each shown image, like the file name of the THINGS image, or wether it was among the set of repeated images. Finally, `VoxelMetadata.csv` files contain information about each voxel, like ROI membership, noise ceilings, or retinotopic parameters.\n",
    "\n",
    "For this tutorial, we'll rely the `ResponseData` and `StimulusMetadata` files."
   ]
  },
  {
   "cell_type": "code",
   "execution_count": 3,
   "id": "a22ed51e",
   "metadata": {},
   "outputs": [],
   "source": [
    "# Select a subject to analyze\n",
    "sub = '01'\n",
    "\n",
    "# define paths to your downloaded data\n",
    "datadir = '/LOCAL/ocontier/thingsmri/bids/derivatives/'\n",
    "betasdir = pjoin(datadir, 'betas_csv')"
   ]
  },
  {
   "cell_type": "code",
   "execution_count": 4,
   "id": "96bf8c29",
   "metadata": {},
   "outputs": [],
   "source": [
    "# load the fMRI data. This may take a minute.\n",
    "responses = pd.read_hdf(pjoin(betasdir, f'sub-{sub}_ResponseData.h5'))\n",
    "# we don't need the `voxel_id` column for this analysis\n",
    "responses.drop(columns='voxel_id', inplace=True)"
   ]
  },
  {
   "cell_type": "code",
   "execution_count": 5,
   "id": "028864bf",
   "metadata": {},
   "outputs": [
    {
     "name": "stdout",
     "output_type": "stream",
     "text": [
      "(211339, 9840)\n"
     ]
    },
    {
     "data": {
      "text/html": [
       "<div>\n",
       "<style scoped>\n",
       "    .dataframe tbody tr th:only-of-type {\n",
       "        vertical-align: middle;\n",
       "    }\n",
       "\n",
       "    .dataframe tbody tr th {\n",
       "        vertical-align: top;\n",
       "    }\n",
       "\n",
       "    .dataframe thead th {\n",
       "        text-align: right;\n",
       "    }\n",
       "</style>\n",
       "<table border=\"1\" class=\"dataframe\">\n",
       "  <thead>\n",
       "    <tr style=\"text-align: right;\">\n",
       "      <th></th>\n",
       "      <th>0</th>\n",
       "      <th>1</th>\n",
       "      <th>2</th>\n",
       "      <th>3</th>\n",
       "      <th>4</th>\n",
       "      <th>5</th>\n",
       "      <th>6</th>\n",
       "      <th>7</th>\n",
       "      <th>8</th>\n",
       "      <th>9</th>\n",
       "      <th>...</th>\n",
       "      <th>9830</th>\n",
       "      <th>9831</th>\n",
       "      <th>9832</th>\n",
       "      <th>9833</th>\n",
       "      <th>9834</th>\n",
       "      <th>9835</th>\n",
       "      <th>9836</th>\n",
       "      <th>9837</th>\n",
       "      <th>9838</th>\n",
       "      <th>9839</th>\n",
       "    </tr>\n",
       "  </thead>\n",
       "  <tbody>\n",
       "    <tr>\n",
       "      <th>0</th>\n",
       "      <td>-0.089022</td>\n",
       "      <td>0.041923</td>\n",
       "      <td>0.169130</td>\n",
       "      <td>-0.075151</td>\n",
       "      <td>0.015963</td>\n",
       "      <td>-0.010098</td>\n",
       "      <td>-0.012468</td>\n",
       "      <td>0.084902</td>\n",
       "      <td>0.091878</td>\n",
       "      <td>0.088472</td>\n",
       "      <td>...</td>\n",
       "      <td>0.024178</td>\n",
       "      <td>-0.029775</td>\n",
       "      <td>0.099759</td>\n",
       "      <td>0.006796</td>\n",
       "      <td>-0.044169</td>\n",
       "      <td>0.018878</td>\n",
       "      <td>-0.057514</td>\n",
       "      <td>0.055157</td>\n",
       "      <td>-0.036201</td>\n",
       "      <td>-0.068705</td>\n",
       "    </tr>\n",
       "    <tr>\n",
       "      <th>1</th>\n",
       "      <td>-0.062508</td>\n",
       "      <td>-0.037973</td>\n",
       "      <td>-0.009769</td>\n",
       "      <td>0.082478</td>\n",
       "      <td>0.056631</td>\n",
       "      <td>-0.015929</td>\n",
       "      <td>-0.027017</td>\n",
       "      <td>0.054912</td>\n",
       "      <td>0.017544</td>\n",
       "      <td>-0.009990</td>\n",
       "      <td>...</td>\n",
       "      <td>-0.071025</td>\n",
       "      <td>0.035286</td>\n",
       "      <td>0.066276</td>\n",
       "      <td>-0.092530</td>\n",
       "      <td>-0.074624</td>\n",
       "      <td>0.006528</td>\n",
       "      <td>0.005477</td>\n",
       "      <td>0.002302</td>\n",
       "      <td>0.074685</td>\n",
       "      <td>-0.096532</td>\n",
       "    </tr>\n",
       "    <tr>\n",
       "      <th>2</th>\n",
       "      <td>-0.070807</td>\n",
       "      <td>-0.019326</td>\n",
       "      <td>-0.019546</td>\n",
       "      <td>-0.060038</td>\n",
       "      <td>-0.024878</td>\n",
       "      <td>0.052750</td>\n",
       "      <td>0.163108</td>\n",
       "      <td>0.037861</td>\n",
       "      <td>-0.073247</td>\n",
       "      <td>-0.077704</td>\n",
       "      <td>...</td>\n",
       "      <td>0.045679</td>\n",
       "      <td>0.075059</td>\n",
       "      <td>-0.020386</td>\n",
       "      <td>-0.034966</td>\n",
       "      <td>-0.027783</td>\n",
       "      <td>0.011068</td>\n",
       "      <td>-0.025219</td>\n",
       "      <td>0.012350</td>\n",
       "      <td>0.029529</td>\n",
       "      <td>0.006157</td>\n",
       "    </tr>\n",
       "    <tr>\n",
       "      <th>3</th>\n",
       "      <td>0.006218</td>\n",
       "      <td>0.016355</td>\n",
       "      <td>-0.075845</td>\n",
       "      <td>-0.109495</td>\n",
       "      <td>-0.007062</td>\n",
       "      <td>0.144785</td>\n",
       "      <td>0.086463</td>\n",
       "      <td>-0.047257</td>\n",
       "      <td>0.011348</td>\n",
       "      <td>0.009721</td>\n",
       "      <td>...</td>\n",
       "      <td>-0.050225</td>\n",
       "      <td>0.016627</td>\n",
       "      <td>0.083943</td>\n",
       "      <td>-0.038645</td>\n",
       "      <td>-0.014257</td>\n",
       "      <td>0.050435</td>\n",
       "      <td>0.032841</td>\n",
       "      <td>-0.036794</td>\n",
       "      <td>-0.000256</td>\n",
       "      <td>0.033482</td>\n",
       "    </tr>\n",
       "    <tr>\n",
       "      <th>4</th>\n",
       "      <td>-0.014344</td>\n",
       "      <td>-0.029792</td>\n",
       "      <td>0.136358</td>\n",
       "      <td>-0.118176</td>\n",
       "      <td>0.007145</td>\n",
       "      <td>0.036102</td>\n",
       "      <td>0.036816</td>\n",
       "      <td>0.015313</td>\n",
       "      <td>0.035015</td>\n",
       "      <td>0.060675</td>\n",
       "      <td>...</td>\n",
       "      <td>-0.104036</td>\n",
       "      <td>-0.020143</td>\n",
       "      <td>0.063932</td>\n",
       "      <td>-0.080900</td>\n",
       "      <td>0.010575</td>\n",
       "      <td>-0.015148</td>\n",
       "      <td>-0.085487</td>\n",
       "      <td>0.118670</td>\n",
       "      <td>0.073392</td>\n",
       "      <td>-0.014972</td>\n",
       "    </tr>\n",
       "  </tbody>\n",
       "</table>\n",
       "<p>5 rows × 9840 columns</p>\n",
       "</div>"
      ],
      "text/plain": [
       "       0         1         2         3         4         5         6     \\\n",
       "0 -0.089022  0.041923  0.169130 -0.075151  0.015963 -0.010098 -0.012468   \n",
       "1 -0.062508 -0.037973 -0.009769  0.082478  0.056631 -0.015929 -0.027017   \n",
       "2 -0.070807 -0.019326 -0.019546 -0.060038 -0.024878  0.052750  0.163108   \n",
       "3  0.006218  0.016355 -0.075845 -0.109495 -0.007062  0.144785  0.086463   \n",
       "4 -0.014344 -0.029792  0.136358 -0.118176  0.007145  0.036102  0.036816   \n",
       "\n",
       "       7         8         9     ...      9830      9831      9832      9833  \\\n",
       "0  0.084902  0.091878  0.088472  ...  0.024178 -0.029775  0.099759  0.006796   \n",
       "1  0.054912  0.017544 -0.009990  ... -0.071025  0.035286  0.066276 -0.092530   \n",
       "2  0.037861 -0.073247 -0.077704  ...  0.045679  0.075059 -0.020386 -0.034966   \n",
       "3 -0.047257  0.011348  0.009721  ... -0.050225  0.016627  0.083943 -0.038645   \n",
       "4  0.015313  0.035015  0.060675  ... -0.104036 -0.020143  0.063932 -0.080900   \n",
       "\n",
       "       9834      9835      9836      9837      9838      9839  \n",
       "0 -0.044169  0.018878 -0.057514  0.055157 -0.036201 -0.068705  \n",
       "1 -0.074624  0.006528  0.005477  0.002302  0.074685 -0.096532  \n",
       "2 -0.027783  0.011068 -0.025219  0.012350  0.029529  0.006157  \n",
       "3 -0.014257  0.050435  0.032841 -0.036794 -0.000256  0.033482  \n",
       "4  0.010575 -0.015148 -0.085487  0.118670  0.073392 -0.014972  \n",
       "\n",
       "[5 rows x 9840 columns]"
      ]
     },
     "execution_count": 5,
     "metadata": {},
     "output_type": "execute_result"
    }
   ],
   "source": [
    "# show the number of voxels, and number of trials\n",
    "print(responses.shape)\n",
    "# let's have a look at the data frame\n",
    "responses.head()"
   ]
  },
  {
   "cell_type": "code",
   "execution_count": 6,
   "id": "c548f067",
   "metadata": {},
   "outputs": [
    {
     "data": {
      "text/html": [
       "<div>\n",
       "<style scoped>\n",
       "    .dataframe tbody tr th:only-of-type {\n",
       "        vertical-align: middle;\n",
       "    }\n",
       "\n",
       "    .dataframe tbody tr th {\n",
       "        vertical-align: top;\n",
       "    }\n",
       "\n",
       "    .dataframe thead th {\n",
       "        text-align: right;\n",
       "    }\n",
       "</style>\n",
       "<table border=\"1\" class=\"dataframe\">\n",
       "  <thead>\n",
       "    <tr style=\"text-align: right;\">\n",
       "      <th></th>\n",
       "      <th>trial_type</th>\n",
       "      <th>session</th>\n",
       "      <th>run</th>\n",
       "      <th>subject_id</th>\n",
       "      <th>trial_id</th>\n",
       "      <th>stimulus</th>\n",
       "      <th>concept</th>\n",
       "    </tr>\n",
       "  </thead>\n",
       "  <tbody>\n",
       "    <tr>\n",
       "      <th>0</th>\n",
       "      <td>train</td>\n",
       "      <td>1</td>\n",
       "      <td>1</td>\n",
       "      <td>1</td>\n",
       "      <td>0</td>\n",
       "      <td>dog_12s.jpg</td>\n",
       "      <td>dog</td>\n",
       "    </tr>\n",
       "    <tr>\n",
       "      <th>1</th>\n",
       "      <td>train</td>\n",
       "      <td>1</td>\n",
       "      <td>1</td>\n",
       "      <td>1</td>\n",
       "      <td>1</td>\n",
       "      <td>mango_12s.jpg</td>\n",
       "      <td>mango</td>\n",
       "    </tr>\n",
       "    <tr>\n",
       "      <th>2</th>\n",
       "      <td>train</td>\n",
       "      <td>1</td>\n",
       "      <td>1</td>\n",
       "      <td>1</td>\n",
       "      <td>2</td>\n",
       "      <td>spatula_12s.jpg</td>\n",
       "      <td>spatula</td>\n",
       "    </tr>\n",
       "    <tr>\n",
       "      <th>3</th>\n",
       "      <td>test</td>\n",
       "      <td>1</td>\n",
       "      <td>1</td>\n",
       "      <td>1</td>\n",
       "      <td>3</td>\n",
       "      <td>candelabra_14s.jpg</td>\n",
       "      <td>candelabra</td>\n",
       "    </tr>\n",
       "    <tr>\n",
       "      <th>4</th>\n",
       "      <td>train</td>\n",
       "      <td>1</td>\n",
       "      <td>1</td>\n",
       "      <td>1</td>\n",
       "      <td>4</td>\n",
       "      <td>panda_12s.jpg</td>\n",
       "      <td>panda</td>\n",
       "    </tr>\n",
       "  </tbody>\n",
       "</table>\n",
       "</div>"
      ],
      "text/plain": [
       "  trial_type  session  run  subject_id  trial_id            stimulus  \\\n",
       "0      train        1    1           1         0         dog_12s.jpg   \n",
       "1      train        1    1           1         1       mango_12s.jpg   \n",
       "2      train        1    1           1         2     spatula_12s.jpg   \n",
       "3       test        1    1           1         3  candelabra_14s.jpg   \n",
       "4      train        1    1           1         4       panda_12s.jpg   \n",
       "\n",
       "      concept  \n",
       "0         dog  \n",
       "1       mango  \n",
       "2     spatula  \n",
       "3  candelabra  \n",
       "4       panda  "
      ]
     },
     "execution_count": 6,
     "metadata": {},
     "output_type": "execute_result"
    }
   ],
   "source": [
    "# Next, we'll load the StimulusMetadata\n",
    "stimmeta = pd.read_csv(pjoin(betasdir, f'sub-{sub}_StimulusMetadata.csv'))\n",
    "# show the information\n",
    "stimmeta.head()"
   ]
  },
  {
   "cell_type": "markdown",
   "id": "e3163588",
   "metadata": {},
   "source": [
    "## Animacy and size 🦕"
   ]
  },
  {
   "cell_type": "markdown",
   "id": "64d9b342",
   "metadata": {},
   "source": [
    "Now, we'll load the animacy and size ratings. These data are part of this github repository, so you won't have to download more files. "
   ]
  },
  {
   "cell_type": "code",
   "execution_count": 7,
   "id": "f020aa23",
   "metadata": {},
   "outputs": [
    {
     "name": "stdout",
     "output_type": "stream",
     "text": [
      "animacy.csv  Categories_final_20200131.tsv  size_fixed.csv\n"
     ]
    }
   ],
   "source": [
    "!ls ../data"
   ]
  },
  {
   "cell_type": "code",
   "execution_count": 8,
   "id": "4de2c079",
   "metadata": {},
   "outputs": [
    {
     "data": {
      "text/html": [
       "<div>\n",
       "<style scoped>\n",
       "    .dataframe tbody tr th:only-of-type {\n",
       "        vertical-align: middle;\n",
       "    }\n",
       "\n",
       "    .dataframe tbody tr th {\n",
       "        vertical-align: top;\n",
       "    }\n",
       "\n",
       "    .dataframe thead th {\n",
       "        text-align: right;\n",
       "    }\n",
       "</style>\n",
       "<table border=\"1\" class=\"dataframe\">\n",
       "  <thead>\n",
       "    <tr style=\"text-align: right;\">\n",
       "      <th></th>\n",
       "      <th>uniqueID</th>\n",
       "      <th>animacy</th>\n",
       "      <th>size</th>\n",
       "    </tr>\n",
       "  </thead>\n",
       "  <tbody>\n",
       "    <tr>\n",
       "      <th>0</th>\n",
       "      <td>aardvark</td>\n",
       "      <td>6.8421</td>\n",
       "      <td>273.743243</td>\n",
       "    </tr>\n",
       "    <tr>\n",
       "      <th>1</th>\n",
       "      <td>abacus</td>\n",
       "      <td>1.5128</td>\n",
       "      <td>241.705882</td>\n",
       "    </tr>\n",
       "    <tr>\n",
       "      <th>2</th>\n",
       "      <td>accordion</td>\n",
       "      <td>1.5000</td>\n",
       "      <td>260.434783</td>\n",
       "    </tr>\n",
       "    <tr>\n",
       "      <th>3</th>\n",
       "      <td>acorn</td>\n",
       "      <td>5.0000</td>\n",
       "      <td>148.326087</td>\n",
       "    </tr>\n",
       "    <tr>\n",
       "      <th>4</th>\n",
       "      <td>air_conditioner</td>\n",
       "      <td>1.2895</td>\n",
       "      <td>281.923913</td>\n",
       "    </tr>\n",
       "  </tbody>\n",
       "</table>\n",
       "</div>"
      ],
      "text/plain": [
       "          uniqueID  animacy        size\n",
       "0         aardvark   6.8421  273.743243\n",
       "1           abacus   1.5128  241.705882\n",
       "2        accordion   1.5000  260.434783\n",
       "3            acorn   5.0000  148.326087\n",
       "4  air_conditioner   1.2895  281.923913"
      ]
     },
     "execution_count": 8,
     "metadata": {},
     "output_type": "execute_result"
    }
   ],
   "source": [
    "# you can use the following function to load the data\n",
    "anisize_df = load_animacy_size()\n",
    "# let's have a look\n",
    "anisize_df.head()"
   ]
  },
  {
   "cell_type": "markdown",
   "id": "7a050fa5",
   "metadata": {},
   "source": [
    "# Preprocessing ⏳"
   ]
  },
  {
   "cell_type": "markdown",
   "id": "3f4e48cf",
   "metadata": {},
   "source": [
    "As we can see, we have animacy and size ratings for each object of in the THINGS database. However, we don't have ratings for each individual image of each object! In this analysis, we get around this by averaging fMRI responses across different images of the same object (also known as object concept)."
   ]
  },
  {
   "cell_type": "code",
   "execution_count": 9,
   "id": "a8303cb3",
   "metadata": {},
   "outputs": [],
   "source": [
    "nconcepts = stimmeta.concept.unique().shape[0]\n",
    "nvoxels = responses.shape[0]\n",
    "\n",
    "# we'll initiate an empty array to store our averaged data in\n",
    "y = np.zeros((nconcepts, nvoxels))"
   ]
  },
  {
   "cell_type": "code",
   "execution_count": 10,
   "id": "2ab6b073",
   "metadata": {},
   "outputs": [],
   "source": [
    "# average the responses per concept\n",
    "# the resulting data will be sorted by concept alphabetically by the pandas library.\n",
    "# this can take a minute\n",
    "for i, (concept, concept_df) in enumerate(stimmeta.groupby('concept')):\n",
    "    inds = concept_df.index\n",
    "    avresponse = responses[inds].mean(axis=1)\n",
    "    y[i] = avresponse"
   ]
  },
  {
   "cell_type": "code",
   "execution_count": 11,
   "id": "349ee223",
   "metadata": {},
   "outputs": [
    {
     "name": "stdout",
     "output_type": "stream",
     "text": [
      "(720, 211339)\n"
     ]
    }
   ],
   "source": [
    "# the new data has one row for each object and one column for each voxel\n",
    "print(y.shape)"
   ]
  },
  {
   "cell_type": "markdown",
   "id": "921665e2",
   "metadata": {},
   "source": [
    "Next, we'll select the animacy and size information that's relevant for the fMRI trials"
   ]
  },
  {
   "cell_type": "code",
   "execution_count": 12,
   "id": "de01b5a2",
   "metadata": {},
   "outputs": [
    {
     "name": "stdout",
     "output_type": "stream",
     "text": [
      "(720, 3)\n"
     ]
    },
    {
     "data": {
      "text/html": [
       "<div>\n",
       "<style scoped>\n",
       "    .dataframe tbody tr th:only-of-type {\n",
       "        vertical-align: middle;\n",
       "    }\n",
       "\n",
       "    .dataframe tbody tr th {\n",
       "        vertical-align: top;\n",
       "    }\n",
       "\n",
       "    .dataframe thead th {\n",
       "        text-align: right;\n",
       "    }\n",
       "</style>\n",
       "<table border=\"1\" class=\"dataframe\">\n",
       "  <thead>\n",
       "    <tr style=\"text-align: right;\">\n",
       "      <th></th>\n",
       "      <th>uniqueID</th>\n",
       "      <th>animacy</th>\n",
       "      <th>size</th>\n",
       "    </tr>\n",
       "  </thead>\n",
       "  <tbody>\n",
       "    <tr>\n",
       "      <th>3</th>\n",
       "      <td>acorn</td>\n",
       "      <td>5.0000</td>\n",
       "      <td>148.326087</td>\n",
       "    </tr>\n",
       "    <tr>\n",
       "      <th>7</th>\n",
       "      <td>airbag</td>\n",
       "      <td>1.3243</td>\n",
       "      <td>262.851351</td>\n",
       "    </tr>\n",
       "    <tr>\n",
       "      <th>9</th>\n",
       "      <td>aircraft_carrier</td>\n",
       "      <td>1.2778</td>\n",
       "      <td>421.329545</td>\n",
       "    </tr>\n",
       "    <tr>\n",
       "      <th>10</th>\n",
       "      <td>airplane</td>\n",
       "      <td>1.2368</td>\n",
       "      <td>410.468085</td>\n",
       "    </tr>\n",
       "    <tr>\n",
       "      <th>12</th>\n",
       "      <td>alligator</td>\n",
       "      <td>7.0000</td>\n",
       "      <td>311.521739</td>\n",
       "    </tr>\n",
       "  </tbody>\n",
       "</table>\n",
       "</div>"
      ],
      "text/plain": [
       "            uniqueID  animacy        size\n",
       "3              acorn   5.0000  148.326087\n",
       "7             airbag   1.3243  262.851351\n",
       "9   aircraft_carrier   1.2778  421.329545\n",
       "10          airplane   1.2368  410.468085\n",
       "12         alligator   7.0000  311.521739"
      ]
     },
     "execution_count": 12,
     "metadata": {},
     "output_type": "execute_result"
    }
   ],
   "source": [
    "concepts_sorted = np.sort(stimmeta.concept.unique())\n",
    "data_df = pd.concat([\n",
    "    anisize_df.loc[anisize_df.uniqueID == con,]\n",
    "    for con in concepts_sorted\n",
    "])\n",
    "print(data_df.shape)\n",
    "data_df.head()"
   ]
  },
  {
   "cell_type": "markdown",
   "id": "ba2c6cc1",
   "metadata": {},
   "source": [
    "Let's inspect the animacy and size predictors a bit closer! First, let's have a look at how correlated they are. We can see that they are weakly correlated."
   ]
  },
  {
   "cell_type": "code",
   "execution_count": 13,
   "metadata": {
    "ExecuteTime": {
     "end_time": "2022-04-11T11:32:29.523855Z",
     "start_time": "2022-04-11T11:32:29.410222Z"
    }
   },
   "outputs": [
    {
     "name": "stdout",
     "output_type": "stream",
     "text": [
      "r(animacy, size) = -0.094 (across all objects in THINGS)\n",
      "r(animacy, size) = -0.073 (across objects presented in fmri)\n"
     ]
    }
   ],
   "source": [
    "# show the regressor correlation\n",
    "r = np.corrcoef(anisize_df.animacy.to_numpy(), anisize_df['size'].to_numpy())[0,1]\n",
    "print(f'r(animacy, size) = {r:.3f} (across all objects in THINGS)')\n",
    "r = np.corrcoef(data_df.animacy.to_numpy(), data_df['size'].to_numpy())[0,1]\n",
    "print(f'r(animacy, size) = {r:.3f} (across objects presented in fmri)')"
   ]
  },
  {
   "cell_type": "code",
   "execution_count": 14,
   "metadata": {
    "ExecuteTime": {
     "end_time": "2022-04-11T11:32:55.459976Z",
     "start_time": "2022-04-11T11:32:55.446766Z"
    }
   },
   "outputs": [
    {
     "data": {
      "text/html": [
       "<div>\n",
       "<style scoped>\n",
       "    .dataframe tbody tr th:only-of-type {\n",
       "        vertical-align: middle;\n",
       "    }\n",
       "\n",
       "    .dataframe tbody tr th {\n",
       "        vertical-align: top;\n",
       "    }\n",
       "\n",
       "    .dataframe thead th {\n",
       "        text-align: right;\n",
       "    }\n",
       "</style>\n",
       "<table border=\"1\" class=\"dataframe\">\n",
       "  <thead>\n",
       "    <tr style=\"text-align: right;\">\n",
       "      <th></th>\n",
       "      <th>uniqueID</th>\n",
       "      <th>animacy</th>\n",
       "      <th>size</th>\n",
       "    </tr>\n",
       "  </thead>\n",
       "  <tbody>\n",
       "    <tr>\n",
       "      <th>1236</th>\n",
       "      <td>powder</td>\n",
       "      <td>1.6842</td>\n",
       "      <td>112.428571</td>\n",
       "    </tr>\n",
       "    <tr>\n",
       "      <th>1150</th>\n",
       "      <td>pepper1</td>\n",
       "      <td>2.4118</td>\n",
       "      <td>113.800000</td>\n",
       "    </tr>\n",
       "    <tr>\n",
       "      <th>1309</th>\n",
       "      <td>rice</td>\n",
       "      <td>3.8205</td>\n",
       "      <td>115.413043</td>\n",
       "    </tr>\n",
       "    <tr>\n",
       "      <th>24</th>\n",
       "      <td>ant</td>\n",
       "      <td>6.9444</td>\n",
       "      <td>116.011111</td>\n",
       "    </tr>\n",
       "    <tr>\n",
       "      <th>1020</th>\n",
       "      <td>mosquito</td>\n",
       "      <td>6.8421</td>\n",
       "      <td>117.765957</td>\n",
       "    </tr>\n",
       "    <tr>\n",
       "      <th>...</th>\n",
       "      <td>...</td>\n",
       "      <td>...</td>\n",
       "      <td>...</td>\n",
       "    </tr>\n",
       "    <tr>\n",
       "      <th>10</th>\n",
       "      <td>airplane</td>\n",
       "      <td>1.2368</td>\n",
       "      <td>410.468085</td>\n",
       "    </tr>\n",
       "    <tr>\n",
       "      <th>1698</th>\n",
       "      <td>train</td>\n",
       "      <td>1.4000</td>\n",
       "      <td>414.085106</td>\n",
       "    </tr>\n",
       "    <tr>\n",
       "      <th>9</th>\n",
       "      <td>aircraft_carrier</td>\n",
       "      <td>1.2778</td>\n",
       "      <td>421.329545</td>\n",
       "    </tr>\n",
       "    <tr>\n",
       "      <th>1501</th>\n",
       "      <td>space_shuttle</td>\n",
       "      <td>1.3684</td>\n",
       "      <td>421.844444</td>\n",
       "    </tr>\n",
       "    <tr>\n",
       "      <th>1578</th>\n",
       "      <td>subway</td>\n",
       "      <td>1.4865</td>\n",
       "      <td>423.088235</td>\n",
       "    </tr>\n",
       "  </tbody>\n",
       "</table>\n",
       "<p>720 rows × 3 columns</p>\n",
       "</div>"
      ],
      "text/plain": [
       "              uniqueID  animacy        size\n",
       "1236            powder   1.6842  112.428571\n",
       "1150           pepper1   2.4118  113.800000\n",
       "1309              rice   3.8205  115.413043\n",
       "24                 ant   6.9444  116.011111\n",
       "1020          mosquito   6.8421  117.765957\n",
       "...                ...      ...         ...\n",
       "10            airplane   1.2368  410.468085\n",
       "1698             train   1.4000  414.085106\n",
       "9     aircraft_carrier   1.2778  421.329545\n",
       "1501     space_shuttle   1.3684  421.844444\n",
       "1578            subway   1.4865  423.088235\n",
       "\n",
       "[720 rows x 3 columns]"
      ]
     },
     "execution_count": 14,
     "metadata": {},
     "output_type": "execute_result"
    }
   ],
   "source": [
    "# As an example, show the smallest and biggest objects presented in fMRI\n",
    "data_df.sort_values('size')"
   ]
  },
  {
   "cell_type": "markdown",
   "id": "e80db905",
   "metadata": {},
   "source": [
    "For interpretability, we'll normalize the regressors so that they have zero mean and unit variance. We'll save the result in the variable `X`, our model matrix."
   ]
  },
  {
   "cell_type": "code",
   "execution_count": 15,
   "metadata": {
    "ExecuteTime": {
     "end_time": "2022-01-16T15:34:41.700338Z",
     "start_time": "2022-01-16T15:34:41.695127Z"
    }
   },
   "outputs": [],
   "source": [
    "# normalize regressors\n",
    "for regname in ['animacy', 'size']:\n",
    "    data_df[regname] -= data_df[regname].mean()\n",
    "    data_df[regname] /= data_df[regname].std()\n",
    "X = data_df[['animacy', 'size']].to_numpy()"
   ]
  },
  {
   "cell_type": "code",
   "execution_count": 16,
   "metadata": {
    "ExecuteTime": {
     "end_time": "2022-01-16T15:34:41.799946Z",
     "start_time": "2022-01-16T15:34:41.707596Z"
    }
   },
   "outputs": [
    {
     "data": {
      "image/png": "[encoded data removed]",
      "text/plain": [
       "<Figure size 400x400 with 1 Axes>"
      ]
     },
     "metadata": {},
     "output_type": "display_data"
    }
   ],
   "source": [
    "# inspect range/distribution of normalized regressors\n",
    "fig = plt.figure(figsize=(4,4))\n",
    "plt.scatter(X[:,0], X[:,1])\n",
    "plt.xlabel('animacy');plt.ylabel('size')\n",
    "plt.show()"
   ]
  },
  {
   "cell_type": "markdown",
   "metadata": {},
   "source": [
    "# Model fitting 🔁"
   ]
  },
  {
   "cell_type": "markdown",
   "id": "5517545e",
   "metadata": {},
   "source": [
    "Great! Now that we've assembled and preprocessed our data, we can run a model. For this demo, we'll use a simple linear regression pre-implemented in scikit-learn."
   ]
  },
  {
   "cell_type": "code",
   "execution_count": 17,
   "metadata": {},
   "outputs": [
    {
     "name": "stderr",
     "output_type": "stream",
     "text": [
      "/home/ocontier/.conda/envs/thingsdata/lib/python3.9/site-packages/sklearn/linear_model/_base.py:148: FutureWarning: 'normalize' was deprecated in version 1.0 and will be removed in 1.2. Please leave the normalize parameter to its default value to silence this warning. The default behavior of this estimator is to not do any normalization. If normalization is needed please use sklearn.preprocessing.StandardScaler instead.\n",
      "  warnings.warn(\n"
     ]
    },
    {
     "data": {
      "text/plain": [
       "LinearRegression(n_jobs=10, normalize=False)"
      ]
     },
     "execution_count": 17,
     "metadata": {},
     "output_type": "execute_result"
    }
   ],
   "source": [
    "# fit a simple linear regression\n",
    "n_jobs = 10\n",
    "lr = LinearRegression(\n",
    "    n_jobs=n_jobs, normalize=False, fit_intercept=True, \n",
    ")\n",
    "lr.fit(X, y)"
   ]
  },
  {
   "cell_type": "markdown",
   "id": "817aaacf",
   "metadata": {},
   "source": [
    "# Visualizing and saving the results 💾"
   ]
  },
  {
   "cell_type": "markdown",
   "id": "7274e565",
   "metadata": {},
   "source": [
    "So far, we've used table data that doesn't contain information about where each voxel lies in space. However, we can easily transfer this data back into a volumetric space with the [brain masks, which you can also download from figshare](https://doi.org/10.25452/figshare.plus.20492757.v1)."
   ]
  },
  {
   "cell_type": "code",
   "execution_count": 18,
   "id": "4d564720",
   "metadata": {},
   "outputs": [],
   "source": [
    "# this is the brain mask file you should have downloaded\n",
    "brainmask = pjoin(datadir, 'brainmasks', f'sub-01_space-T1w_brainmask.nii.gz')"
   ]
  },
  {
   "cell_type": "code",
   "execution_count": 19,
   "id": "2fab1c31",
   "metadata": {},
   "outputs": [],
   "source": [
    "# we can get the voxel-wise regression weights for both regressors from the linear regression object\n",
    "weights = lr.coef_  # array of shape (nvoxel, nregressors)    "
   ]
  },
  {
   "cell_type": "code",
   "execution_count": 20,
   "id": "31c582c4",
   "metadata": {},
   "outputs": [
    {
     "data": {
      "image/png": "[encoded data removed]",
      "text/plain": [
       "<Figure size 730x260 with 5 Axes>"
      ]
     },
     "metadata": {},
     "output_type": "display_data"
    },
    {
     "data": {
      "image/png": "[encoded data removed]",
      "text/plain": [
       "<Figure size 730x260 with 5 Axes>"
      ]
     },
     "metadata": {},
     "output_type": "display_data"
    }
   ],
   "source": [
    "for w, regname in zip(weights.T, ['animacy', 'size']):\n",
    "    # we'll unmask the weights to get a nibabel 3D volume object\n",
    "    w_img = unmask(w, brainmask)\n",
    "    # we can also take a look at the volume, e.g. with one of nilearn's plotting function\n",
    "    fig = plot_stat_map(\n",
    "        w_img, bg_img=None, colorbar=True, vmax=0.01,\n",
    "        title=f'weights for {regname}',\n",
    "        )\n",
    "    # and save the volume to a nifti file\n",
    "    w_img.to_filename(f'demo_weights_{regname}.nii.gz')"
   ]
  }
 ],
 "metadata": {
  "kernelspec": {
   "display_name": "Python 3.9.2 ('pycortex_env')",
   "language": "python",
   "name": "python3"
  },
  "language_info": {
   "codemirror_mode": {
    "name": "ipython",
    "version": 3
   },
   "file_extension": ".py",
   "mimetype": "text/x-python",
   "name": "python",
   "nbconvert_exporter": "python",
   "pygments_lexer": "ipython3",
   "version": "3.9.0"
  },
  "vscode": {
   "interpreter": {
    "hash": "0353db5c40e4acea9704ff3791d606e9ce74d1fd9ef57063d56e39bfb4a5910f"
   }
  }
 },
 "nbformat": 4,
 "nbformat_minor": 5
}
